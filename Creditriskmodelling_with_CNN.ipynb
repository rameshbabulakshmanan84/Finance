{
  "nbformat": 4,
  "nbformat_minor": 0,
  "metadata": {
    "colab": {
      "name": "Creditriskmodelling with CNN.ipynb",
      "provenance": [],
      "collapsed_sections": [],
      "toc_visible": true,
      "authorship_tag": "ABX9TyOFkS73lrbep41krqhcWXIG",
      "include_colab_link": true
    },
    "kernelspec": {
      "name": "python3",
      "display_name": "Python 3"
    }
  },
  "cells": [
    {
      "cell_type": "markdown",
      "metadata": {
        "id": "view-in-github",
        "colab_type": "text"
      },
      "source": [
        "<a href=\"https://colab.research.google.com/github/rameshbabulakshmanan84/Finance/blob/master/Creditriskmodelling_with_CNN.ipynb\" target=\"_parent\"><img src=\"https://colab.research.google.com/assets/colab-badge.svg\" alt=\"Open In Colab\"/></a>"
      ]
    },
    {
      "cell_type": "code",
      "metadata": {
        "id": "dZBOjH5Rb2-L",
        "colab_type": "code",
        "colab": {
          "base_uri": "https://localhost:8080/",
          "height": 50
        },
        "outputId": "d7a05fe5-d589-4db5-ec69-60f07e5054fc"
      },
      "source": [
        "# Importing the libraries\n",
        "import pandas as pd\n",
        "import numpy as np\n",
        "import seaborn as sns\n",
        "import matplotlib.pyplot as plt\n",
        "%matplotlib inline"
      ],
      "execution_count": null,
      "outputs": [
        {
          "output_type": "stream",
          "text": [
            "/usr/local/lib/python3.6/dist-packages/statsmodels/tools/_testing.py:19: FutureWarning: pandas.util.testing is deprecated. Use the functions in the public API at pandas.testing instead.\n",
            "  import pandas.util.testing as tm\n"
          ],
          "name": "stderr"
        }
      ]
    },
    {
      "cell_type": "code",
      "metadata": {
        "id": "_Q0814YZc5jV",
        "colab_type": "code",
        "colab": {}
      },
      "source": [
        "#import the dataset\n",
        "data=pd.read_csv('https://raw.githubusercontent.com/aniruddhachoudhury/Credit-Risk-Model/master/train.csv')"
      ],
      "execution_count": null,
      "outputs": []
    },
    {
      "cell_type": "code",
      "metadata": {
        "id": "SVpyhFPXdJ17",
        "colab_type": "code",
        "colab": {}
      },
      "source": [
        "data=data.drop('Unnamed: 0',axis=1)"
      ],
      "execution_count": null,
      "outputs": []
    },
    {
      "cell_type": "code",
      "metadata": {
        "id": "YwlrK9KLdc-i",
        "colab_type": "code",
        "colab": {
          "base_uri": "https://localhost:8080/",
          "height": 115
        },
        "outputId": "4e699e75-2ed8-430d-a7b7-0f976db813a6"
      },
      "source": [
        "data.columns.values"
      ],
      "execution_count": null,
      "outputs": [
        {
          "output_type": "execute_result",
          "data": {
            "text/plain": [
              "array(['SeriousDlqin2yrs', 'RevolvingUtilizationOfUnsecuredLines', 'age',\n",
              "       'NumberOfTime30-59DaysPastDueNotWorse', 'DebtRatio',\n",
              "       'MonthlyIncome', 'NumberOfOpenCreditLinesAndLoans',\n",
              "       'NumberOfTimes90DaysLate', 'NumberRealEstateLoansOrLines',\n",
              "       'NumberOfTime60-89DaysPastDueNotWorse', 'NumberOfDependents'],\n",
              "      dtype=object)"
            ]
          },
          "metadata": {
            "tags": []
          },
          "execution_count": 4
        }
      ]
    },
    {
      "cell_type": "code",
      "metadata": {
        "id": "w1_-F86GdwkK",
        "colab_type": "code",
        "colab": {}
      },
      "source": [
        "#SeriousDlqin2yrs refers to the deliquency happened in last two years "
      ],
      "execution_count": null,
      "outputs": []
    },
    {
      "cell_type": "code",
      "metadata": {
        "id": "4eJEG3JCeDiB",
        "colab_type": "code",
        "colab": {
          "base_uri": "https://localhost:8080/",
          "height": 98
        },
        "outputId": "a32780ca-8211-4edb-a937-a53ed7cc7730"
      },
      "source": [
        "#replace yje '-' in the column heading \n",
        "x=data.columns.values\n",
        "#replace'-' in the headings\n",
        "col=[]\n",
        "for i in x:\n",
        "  temp=i.replace('-','')\n",
        "  col.append(temp)\n",
        "#print(col)\n",
        "data.columns = col\n",
        "print(data.columns.values)"
      ],
      "execution_count": null,
      "outputs": [
        {
          "output_type": "stream",
          "text": [
            "['SeriousDlqin2yrs' 'RevolvingUtilizationOfUnsecuredLines' 'age'\n",
            " 'NumberOfTime3059DaysPastDueNotWorse' 'DebtRatio' 'MonthlyIncome'\n",
            " 'NumberOfOpenCreditLinesAndLoans' 'NumberOfTimes90DaysLate'\n",
            " 'NumberRealEstateLoansOrLines' 'NumberOfTime6089DaysPastDueNotWorse'\n",
            " 'NumberOfDependents']\n"
          ],
          "name": "stdout"
        }
      ]
    },
    {
      "cell_type": "code",
      "metadata": {
        "id": "MY6QLv6OfPWf",
        "colab_type": "code",
        "colab": {
          "base_uri": "https://localhost:8080/",
          "height": 355
        },
        "outputId": "6563aa01-36ff-477c-8a2b-b82eaecb2a9c"
      },
      "source": [
        "#print the top 10 lines\n",
        "data.head(10)"
      ],
      "execution_count": null,
      "outputs": [
        {
          "output_type": "execute_result",
          "data": {
            "text/html": [
              "<div>\n",
              "<style scoped>\n",
              "    .dataframe tbody tr th:only-of-type {\n",
              "        vertical-align: middle;\n",
              "    }\n",
              "\n",
              "    .dataframe tbody tr th {\n",
              "        vertical-align: top;\n",
              "    }\n",
              "\n",
              "    .dataframe thead th {\n",
              "        text-align: right;\n",
              "    }\n",
              "</style>\n",
              "<table border=\"1\" class=\"dataframe\">\n",
              "  <thead>\n",
              "    <tr style=\"text-align: right;\">\n",
              "      <th></th>\n",
              "      <th>SeriousDlqin2yrs</th>\n",
              "      <th>RevolvingUtilizationOfUnsecuredLines</th>\n",
              "      <th>age</th>\n",
              "      <th>NumberOfTime3059DaysPastDueNotWorse</th>\n",
              "      <th>DebtRatio</th>\n",
              "      <th>MonthlyIncome</th>\n",
              "      <th>NumberOfOpenCreditLinesAndLoans</th>\n",
              "      <th>NumberOfTimes90DaysLate</th>\n",
              "      <th>NumberRealEstateLoansOrLines</th>\n",
              "      <th>NumberOfTime6089DaysPastDueNotWorse</th>\n",
              "      <th>NumberOfDependents</th>\n",
              "    </tr>\n",
              "  </thead>\n",
              "  <tbody>\n",
              "    <tr>\n",
              "      <th>0</th>\n",
              "      <td>1</td>\n",
              "      <td>0.766127</td>\n",
              "      <td>45</td>\n",
              "      <td>2</td>\n",
              "      <td>0.802982</td>\n",
              "      <td>9120.0</td>\n",
              "      <td>13</td>\n",
              "      <td>0</td>\n",
              "      <td>6</td>\n",
              "      <td>0</td>\n",
              "      <td>2.0</td>\n",
              "    </tr>\n",
              "    <tr>\n",
              "      <th>1</th>\n",
              "      <td>0</td>\n",
              "      <td>0.957151</td>\n",
              "      <td>40</td>\n",
              "      <td>0</td>\n",
              "      <td>0.121876</td>\n",
              "      <td>2600.0</td>\n",
              "      <td>4</td>\n",
              "      <td>0</td>\n",
              "      <td>0</td>\n",
              "      <td>0</td>\n",
              "      <td>1.0</td>\n",
              "    </tr>\n",
              "    <tr>\n",
              "      <th>2</th>\n",
              "      <td>0</td>\n",
              "      <td>0.658180</td>\n",
              "      <td>38</td>\n",
              "      <td>1</td>\n",
              "      <td>0.085113</td>\n",
              "      <td>3042.0</td>\n",
              "      <td>2</td>\n",
              "      <td>1</td>\n",
              "      <td>0</td>\n",
              "      <td>0</td>\n",
              "      <td>0.0</td>\n",
              "    </tr>\n",
              "    <tr>\n",
              "      <th>3</th>\n",
              "      <td>0</td>\n",
              "      <td>0.233810</td>\n",
              "      <td>30</td>\n",
              "      <td>0</td>\n",
              "      <td>0.036050</td>\n",
              "      <td>3300.0</td>\n",
              "      <td>5</td>\n",
              "      <td>0</td>\n",
              "      <td>0</td>\n",
              "      <td>0</td>\n",
              "      <td>0.0</td>\n",
              "    </tr>\n",
              "    <tr>\n",
              "      <th>4</th>\n",
              "      <td>0</td>\n",
              "      <td>0.907239</td>\n",
              "      <td>49</td>\n",
              "      <td>1</td>\n",
              "      <td>0.024926</td>\n",
              "      <td>63588.0</td>\n",
              "      <td>7</td>\n",
              "      <td>0</td>\n",
              "      <td>1</td>\n",
              "      <td>0</td>\n",
              "      <td>0.0</td>\n",
              "    </tr>\n",
              "    <tr>\n",
              "      <th>5</th>\n",
              "      <td>0</td>\n",
              "      <td>0.213179</td>\n",
              "      <td>74</td>\n",
              "      <td>0</td>\n",
              "      <td>0.375607</td>\n",
              "      <td>3500.0</td>\n",
              "      <td>3</td>\n",
              "      <td>0</td>\n",
              "      <td>1</td>\n",
              "      <td>0</td>\n",
              "      <td>1.0</td>\n",
              "    </tr>\n",
              "    <tr>\n",
              "      <th>6</th>\n",
              "      <td>0</td>\n",
              "      <td>0.305682</td>\n",
              "      <td>57</td>\n",
              "      <td>0</td>\n",
              "      <td>5710.000000</td>\n",
              "      <td>NaN</td>\n",
              "      <td>8</td>\n",
              "      <td>0</td>\n",
              "      <td>3</td>\n",
              "      <td>0</td>\n",
              "      <td>0.0</td>\n",
              "    </tr>\n",
              "    <tr>\n",
              "      <th>7</th>\n",
              "      <td>0</td>\n",
              "      <td>0.754464</td>\n",
              "      <td>39</td>\n",
              "      <td>0</td>\n",
              "      <td>0.209940</td>\n",
              "      <td>3500.0</td>\n",
              "      <td>8</td>\n",
              "      <td>0</td>\n",
              "      <td>0</td>\n",
              "      <td>0</td>\n",
              "      <td>0.0</td>\n",
              "    </tr>\n",
              "    <tr>\n",
              "      <th>8</th>\n",
              "      <td>0</td>\n",
              "      <td>0.116951</td>\n",
              "      <td>27</td>\n",
              "      <td>0</td>\n",
              "      <td>46.000000</td>\n",
              "      <td>NaN</td>\n",
              "      <td>2</td>\n",
              "      <td>0</td>\n",
              "      <td>0</td>\n",
              "      <td>0</td>\n",
              "      <td>NaN</td>\n",
              "    </tr>\n",
              "    <tr>\n",
              "      <th>9</th>\n",
              "      <td>0</td>\n",
              "      <td>0.189169</td>\n",
              "      <td>57</td>\n",
              "      <td>0</td>\n",
              "      <td>0.606291</td>\n",
              "      <td>23684.0</td>\n",
              "      <td>9</td>\n",
              "      <td>0</td>\n",
              "      <td>4</td>\n",
              "      <td>0</td>\n",
              "      <td>2.0</td>\n",
              "    </tr>\n",
              "  </tbody>\n",
              "</table>\n",
              "</div>"
            ],
            "text/plain": [
              "   SeriousDlqin2yrs  ...  NumberOfDependents\n",
              "0                 1  ...                 2.0\n",
              "1                 0  ...                 1.0\n",
              "2                 0  ...                 0.0\n",
              "3                 0  ...                 0.0\n",
              "4                 0  ...                 0.0\n",
              "5                 0  ...                 1.0\n",
              "6                 0  ...                 0.0\n",
              "7                 0  ...                 0.0\n",
              "8                 0  ...                 NaN\n",
              "9                 0  ...                 2.0\n",
              "\n",
              "[10 rows x 11 columns]"
            ]
          },
          "metadata": {
            "tags": []
          },
          "execution_count": 6
        }
      ]
    },
    {
      "cell_type": "code",
      "metadata": {
        "id": "98Z1AzVHfnDG",
        "colab_type": "code",
        "colab": {
          "base_uri": "https://localhost:8080/",
          "height": 297
        },
        "outputId": "4c87b4fe-95ec-43bd-b855-e0f35370edd5"
      },
      "source": [
        "#Describe the data details\n",
        "data[data.columns[1:]].describe()"
      ],
      "execution_count": null,
      "outputs": [
        {
          "output_type": "execute_result",
          "data": {
            "text/html": [
              "<div>\n",
              "<style scoped>\n",
              "    .dataframe tbody tr th:only-of-type {\n",
              "        vertical-align: middle;\n",
              "    }\n",
              "\n",
              "    .dataframe tbody tr th {\n",
              "        vertical-align: top;\n",
              "    }\n",
              "\n",
              "    .dataframe thead th {\n",
              "        text-align: right;\n",
              "    }\n",
              "</style>\n",
              "<table border=\"1\" class=\"dataframe\">\n",
              "  <thead>\n",
              "    <tr style=\"text-align: right;\">\n",
              "      <th></th>\n",
              "      <th>RevolvingUtilizationOfUnsecuredLines</th>\n",
              "      <th>age</th>\n",
              "      <th>NumberOfTime3059DaysPastDueNotWorse</th>\n",
              "      <th>DebtRatio</th>\n",
              "      <th>MonthlyIncome</th>\n",
              "      <th>NumberOfOpenCreditLinesAndLoans</th>\n",
              "      <th>NumberOfTimes90DaysLate</th>\n",
              "      <th>NumberRealEstateLoansOrLines</th>\n",
              "      <th>NumberOfTime6089DaysPastDueNotWorse</th>\n",
              "      <th>NumberOfDependents</th>\n",
              "    </tr>\n",
              "  </thead>\n",
              "  <tbody>\n",
              "    <tr>\n",
              "      <th>count</th>\n",
              "      <td>150000.000000</td>\n",
              "      <td>150000.000000</td>\n",
              "      <td>150000.000000</td>\n",
              "      <td>150000.000000</td>\n",
              "      <td>1.202690e+05</td>\n",
              "      <td>150000.000000</td>\n",
              "      <td>150000.000000</td>\n",
              "      <td>150000.000000</td>\n",
              "      <td>150000.000000</td>\n",
              "      <td>146076.000000</td>\n",
              "    </tr>\n",
              "    <tr>\n",
              "      <th>mean</th>\n",
              "      <td>6.048438</td>\n",
              "      <td>52.295207</td>\n",
              "      <td>0.421033</td>\n",
              "      <td>353.005076</td>\n",
              "      <td>6.670221e+03</td>\n",
              "      <td>8.452760</td>\n",
              "      <td>0.265973</td>\n",
              "      <td>1.018240</td>\n",
              "      <td>0.240387</td>\n",
              "      <td>0.757222</td>\n",
              "    </tr>\n",
              "    <tr>\n",
              "      <th>std</th>\n",
              "      <td>249.755371</td>\n",
              "      <td>14.771866</td>\n",
              "      <td>4.192781</td>\n",
              "      <td>2037.818523</td>\n",
              "      <td>1.438467e+04</td>\n",
              "      <td>5.145951</td>\n",
              "      <td>4.169304</td>\n",
              "      <td>1.129771</td>\n",
              "      <td>4.155179</td>\n",
              "      <td>1.115086</td>\n",
              "    </tr>\n",
              "    <tr>\n",
              "      <th>min</th>\n",
              "      <td>0.000000</td>\n",
              "      <td>0.000000</td>\n",
              "      <td>0.000000</td>\n",
              "      <td>0.000000</td>\n",
              "      <td>0.000000e+00</td>\n",
              "      <td>0.000000</td>\n",
              "      <td>0.000000</td>\n",
              "      <td>0.000000</td>\n",
              "      <td>0.000000</td>\n",
              "      <td>0.000000</td>\n",
              "    </tr>\n",
              "    <tr>\n",
              "      <th>25%</th>\n",
              "      <td>0.029867</td>\n",
              "      <td>41.000000</td>\n",
              "      <td>0.000000</td>\n",
              "      <td>0.175074</td>\n",
              "      <td>3.400000e+03</td>\n",
              "      <td>5.000000</td>\n",
              "      <td>0.000000</td>\n",
              "      <td>0.000000</td>\n",
              "      <td>0.000000</td>\n",
              "      <td>0.000000</td>\n",
              "    </tr>\n",
              "    <tr>\n",
              "      <th>50%</th>\n",
              "      <td>0.154181</td>\n",
              "      <td>52.000000</td>\n",
              "      <td>0.000000</td>\n",
              "      <td>0.366508</td>\n",
              "      <td>5.400000e+03</td>\n",
              "      <td>8.000000</td>\n",
              "      <td>0.000000</td>\n",
              "      <td>1.000000</td>\n",
              "      <td>0.000000</td>\n",
              "      <td>0.000000</td>\n",
              "    </tr>\n",
              "    <tr>\n",
              "      <th>75%</th>\n",
              "      <td>0.559046</td>\n",
              "      <td>63.000000</td>\n",
              "      <td>0.000000</td>\n",
              "      <td>0.868254</td>\n",
              "      <td>8.249000e+03</td>\n",
              "      <td>11.000000</td>\n",
              "      <td>0.000000</td>\n",
              "      <td>2.000000</td>\n",
              "      <td>0.000000</td>\n",
              "      <td>1.000000</td>\n",
              "    </tr>\n",
              "    <tr>\n",
              "      <th>max</th>\n",
              "      <td>50708.000000</td>\n",
              "      <td>109.000000</td>\n",
              "      <td>98.000000</td>\n",
              "      <td>329664.000000</td>\n",
              "      <td>3.008750e+06</td>\n",
              "      <td>58.000000</td>\n",
              "      <td>98.000000</td>\n",
              "      <td>54.000000</td>\n",
              "      <td>98.000000</td>\n",
              "      <td>20.000000</td>\n",
              "    </tr>\n",
              "  </tbody>\n",
              "</table>\n",
              "</div>"
            ],
            "text/plain": [
              "       RevolvingUtilizationOfUnsecuredLines  ...  NumberOfDependents\n",
              "count                         150000.000000  ...       146076.000000\n",
              "mean                               6.048438  ...            0.757222\n",
              "std                              249.755371  ...            1.115086\n",
              "min                                0.000000  ...            0.000000\n",
              "25%                                0.029867  ...            0.000000\n",
              "50%                                0.154181  ...            0.000000\n",
              "75%                                0.559046  ...            1.000000\n",
              "max                            50708.000000  ...           20.000000\n",
              "\n",
              "[8 rows x 10 columns]"
            ]
          },
          "metadata": {
            "tags": []
          },
          "execution_count": 7
        }
      ]
    },
    {
      "cell_type": "code",
      "metadata": {
        "id": "KSK6apk1gJCM",
        "colab_type": "code",
        "colab": {}
      },
      "source": [
        "target=data[data.columns[0]]\n",
        "data=data[data.columns[1:]]\n"
      ],
      "execution_count": null,
      "outputs": []
    },
    {
      "cell_type": "code",
      "metadata": {
        "id": "MCHHZN0-gcYt",
        "colab_type": "code",
        "colab": {
          "base_uri": "https://localhost:8080/",
          "height": 196
        },
        "outputId": "fb7d2d59-6f94-44fd-8e1a-c6272977b50b"
      },
      "source": [
        "target.head(10)"
      ],
      "execution_count": null,
      "outputs": [
        {
          "output_type": "execute_result",
          "data": {
            "text/plain": [
              "0    1\n",
              "1    0\n",
              "2    0\n",
              "3    0\n",
              "4    0\n",
              "5    0\n",
              "6    0\n",
              "7    0\n",
              "8    0\n",
              "9    0\n",
              "Name: SeriousDlqin2yrs, dtype: int64"
            ]
          },
          "metadata": {
            "tags": []
          },
          "execution_count": 9
        }
      ]
    },
    {
      "cell_type": "code",
      "metadata": {
        "id": "TnbtE_zjgOEs",
        "colab_type": "code",
        "colab": {
          "base_uri": "https://localhost:8080/",
          "height": 355
        },
        "outputId": "201888cc-8021-4002-e931-b6fa823a4dd9"
      },
      "source": [
        "data.head(10)"
      ],
      "execution_count": null,
      "outputs": [
        {
          "output_type": "execute_result",
          "data": {
            "text/html": [
              "<div>\n",
              "<style scoped>\n",
              "    .dataframe tbody tr th:only-of-type {\n",
              "        vertical-align: middle;\n",
              "    }\n",
              "\n",
              "    .dataframe tbody tr th {\n",
              "        vertical-align: top;\n",
              "    }\n",
              "\n",
              "    .dataframe thead th {\n",
              "        text-align: right;\n",
              "    }\n",
              "</style>\n",
              "<table border=\"1\" class=\"dataframe\">\n",
              "  <thead>\n",
              "    <tr style=\"text-align: right;\">\n",
              "      <th></th>\n",
              "      <th>RevolvingUtilizationOfUnsecuredLines</th>\n",
              "      <th>age</th>\n",
              "      <th>NumberOfTime3059DaysPastDueNotWorse</th>\n",
              "      <th>DebtRatio</th>\n",
              "      <th>MonthlyIncome</th>\n",
              "      <th>NumberOfOpenCreditLinesAndLoans</th>\n",
              "      <th>NumberOfTimes90DaysLate</th>\n",
              "      <th>NumberRealEstateLoansOrLines</th>\n",
              "      <th>NumberOfTime6089DaysPastDueNotWorse</th>\n",
              "      <th>NumberOfDependents</th>\n",
              "    </tr>\n",
              "  </thead>\n",
              "  <tbody>\n",
              "    <tr>\n",
              "      <th>0</th>\n",
              "      <td>0.766127</td>\n",
              "      <td>45</td>\n",
              "      <td>2</td>\n",
              "      <td>0.802982</td>\n",
              "      <td>9120.0</td>\n",
              "      <td>13</td>\n",
              "      <td>0</td>\n",
              "      <td>6</td>\n",
              "      <td>0</td>\n",
              "      <td>2.0</td>\n",
              "    </tr>\n",
              "    <tr>\n",
              "      <th>1</th>\n",
              "      <td>0.957151</td>\n",
              "      <td>40</td>\n",
              "      <td>0</td>\n",
              "      <td>0.121876</td>\n",
              "      <td>2600.0</td>\n",
              "      <td>4</td>\n",
              "      <td>0</td>\n",
              "      <td>0</td>\n",
              "      <td>0</td>\n",
              "      <td>1.0</td>\n",
              "    </tr>\n",
              "    <tr>\n",
              "      <th>2</th>\n",
              "      <td>0.658180</td>\n",
              "      <td>38</td>\n",
              "      <td>1</td>\n",
              "      <td>0.085113</td>\n",
              "      <td>3042.0</td>\n",
              "      <td>2</td>\n",
              "      <td>1</td>\n",
              "      <td>0</td>\n",
              "      <td>0</td>\n",
              "      <td>0.0</td>\n",
              "    </tr>\n",
              "    <tr>\n",
              "      <th>3</th>\n",
              "      <td>0.233810</td>\n",
              "      <td>30</td>\n",
              "      <td>0</td>\n",
              "      <td>0.036050</td>\n",
              "      <td>3300.0</td>\n",
              "      <td>5</td>\n",
              "      <td>0</td>\n",
              "      <td>0</td>\n",
              "      <td>0</td>\n",
              "      <td>0.0</td>\n",
              "    </tr>\n",
              "    <tr>\n",
              "      <th>4</th>\n",
              "      <td>0.907239</td>\n",
              "      <td>49</td>\n",
              "      <td>1</td>\n",
              "      <td>0.024926</td>\n",
              "      <td>63588.0</td>\n",
              "      <td>7</td>\n",
              "      <td>0</td>\n",
              "      <td>1</td>\n",
              "      <td>0</td>\n",
              "      <td>0.0</td>\n",
              "    </tr>\n",
              "    <tr>\n",
              "      <th>5</th>\n",
              "      <td>0.213179</td>\n",
              "      <td>74</td>\n",
              "      <td>0</td>\n",
              "      <td>0.375607</td>\n",
              "      <td>3500.0</td>\n",
              "      <td>3</td>\n",
              "      <td>0</td>\n",
              "      <td>1</td>\n",
              "      <td>0</td>\n",
              "      <td>1.0</td>\n",
              "    </tr>\n",
              "    <tr>\n",
              "      <th>6</th>\n",
              "      <td>0.305682</td>\n",
              "      <td>57</td>\n",
              "      <td>0</td>\n",
              "      <td>5710.000000</td>\n",
              "      <td>NaN</td>\n",
              "      <td>8</td>\n",
              "      <td>0</td>\n",
              "      <td>3</td>\n",
              "      <td>0</td>\n",
              "      <td>0.0</td>\n",
              "    </tr>\n",
              "    <tr>\n",
              "      <th>7</th>\n",
              "      <td>0.754464</td>\n",
              "      <td>39</td>\n",
              "      <td>0</td>\n",
              "      <td>0.209940</td>\n",
              "      <td>3500.0</td>\n",
              "      <td>8</td>\n",
              "      <td>0</td>\n",
              "      <td>0</td>\n",
              "      <td>0</td>\n",
              "      <td>0.0</td>\n",
              "    </tr>\n",
              "    <tr>\n",
              "      <th>8</th>\n",
              "      <td>0.116951</td>\n",
              "      <td>27</td>\n",
              "      <td>0</td>\n",
              "      <td>46.000000</td>\n",
              "      <td>NaN</td>\n",
              "      <td>2</td>\n",
              "      <td>0</td>\n",
              "      <td>0</td>\n",
              "      <td>0</td>\n",
              "      <td>NaN</td>\n",
              "    </tr>\n",
              "    <tr>\n",
              "      <th>9</th>\n",
              "      <td>0.189169</td>\n",
              "      <td>57</td>\n",
              "      <td>0</td>\n",
              "      <td>0.606291</td>\n",
              "      <td>23684.0</td>\n",
              "      <td>9</td>\n",
              "      <td>0</td>\n",
              "      <td>4</td>\n",
              "      <td>0</td>\n",
              "      <td>2.0</td>\n",
              "    </tr>\n",
              "  </tbody>\n",
              "</table>\n",
              "</div>"
            ],
            "text/plain": [
              "   RevolvingUtilizationOfUnsecuredLines  ...  NumberOfDependents\n",
              "0                              0.766127  ...                 2.0\n",
              "1                              0.957151  ...                 1.0\n",
              "2                              0.658180  ...                 0.0\n",
              "3                              0.233810  ...                 0.0\n",
              "4                              0.907239  ...                 0.0\n",
              "5                              0.213179  ...                 1.0\n",
              "6                              0.305682  ...                 0.0\n",
              "7                              0.754464  ...                 0.0\n",
              "8                              0.116951  ...                 NaN\n",
              "9                              0.189169  ...                 2.0\n",
              "\n",
              "[10 rows x 10 columns]"
            ]
          },
          "metadata": {
            "tags": []
          },
          "execution_count": 10
        }
      ]
    },
    {
      "cell_type": "code",
      "metadata": {
        "id": "o049bEXgg2JL",
        "colab_type": "code",
        "colab": {
          "base_uri": "https://localhost:8080/",
          "height": 196
        },
        "outputId": "aefa3b57-5cd5-4f86-cbdf-5c9cfb0d199c"
      },
      "source": [
        "#check null values\n",
        "data.isnull().sum()"
      ],
      "execution_count": null,
      "outputs": [
        {
          "output_type": "execute_result",
          "data": {
            "text/plain": [
              "RevolvingUtilizationOfUnsecuredLines        0\n",
              "age                                         0\n",
              "NumberOfTime3059DaysPastDueNotWorse         0\n",
              "DebtRatio                                   0\n",
              "MonthlyIncome                           29731\n",
              "NumberOfOpenCreditLinesAndLoans             0\n",
              "NumberOfTimes90DaysLate                     0\n",
              "NumberRealEstateLoansOrLines                0\n",
              "NumberOfTime6089DaysPastDueNotWorse         0\n",
              "NumberOfDependents                       3924\n",
              "dtype: int64"
            ]
          },
          "metadata": {
            "tags": []
          },
          "execution_count": 11
        }
      ]
    },
    {
      "cell_type": "code",
      "metadata": {
        "id": "1X3e4EI1hJka",
        "colab_type": "code",
        "colab": {
          "base_uri": "https://localhost:8080/",
          "height": 533
        },
        "outputId": "2843acec-efe8-427a-842a-62bfb29a2654"
      },
      "source": [
        "#graphical rep of the missiong values\n",
        "x=data.columns\n",
        "y=data.isnull().sum()\n",
        "sns.set()\n",
        "sns.barplot(x,y)\n",
        "ax=plt.gca()\n",
        "#for p in ax.patches():\n",
        "#  height=p.get_height()\n",
        "#  ax.text(p.get_x()+p.get_width()/2.,height+2,int(height),fontsize=14,ha='center',va='bottom')\n",
        "sns.set(font_scale=1.5)\n",
        "sns.set(rc={'figure.figsize':(8,8)})\n",
        "ax.set_xlabel(\"Data Attributes\")\n",
        "ax.set_ylabel(\"count of missing records for each attribute\")\n",
        "plt.xticks(rotation=90)\n",
        "plt.show() "
      ],
      "execution_count": null,
      "outputs": [
        {
          "output_type": "display_data",
          "data": {
            "image/png": "[encoded data removed]",
            "text/plain": [
              "<Figure size 432x288 with 1 Axes>"
            ]
          },
          "metadata": {
            "tags": []
          }
        }
      ]
    },
    {
      "cell_type": "code",
      "metadata": {
        "id": "zjJ3V17hmXKj",
        "colab_type": "code",
        "colab": {
          "base_uri": "https://localhost:8080/",
          "height": 411
        },
        "outputId": "9cd509d7-1b3d-47f0-908d-60a7d4ccad54"
      },
      "source": [
        "#replace the missing value with median values\n",
        "data.median()\n",
        "#replace the missing  values with median value\n",
        "data_updated=data.fillna(value=data.median())\n",
        "#print\n",
        "data_updated"
      ],
      "execution_count": null,
      "outputs": [
        {
          "output_type": "execute_result",
          "data": {
            "text/html": [
              "<div>\n",
              "<style scoped>\n",
              "    .dataframe tbody tr th:only-of-type {\n",
              "        vertical-align: middle;\n",
              "    }\n",
              "\n",
              "    .dataframe tbody tr th {\n",
              "        vertical-align: top;\n",
              "    }\n",
              "\n",
              "    .dataframe thead th {\n",
              "        text-align: right;\n",
              "    }\n",
              "</style>\n",
              "<table border=\"1\" class=\"dataframe\">\n",
              "  <thead>\n",
              "    <tr style=\"text-align: right;\">\n",
              "      <th></th>\n",
              "      <th>RevolvingUtilizationOfUnsecuredLines</th>\n",
              "      <th>age</th>\n",
              "      <th>NumberOfTime3059DaysPastDueNotWorse</th>\n",
              "      <th>DebtRatio</th>\n",
              "      <th>MonthlyIncome</th>\n",
              "      <th>NumberOfOpenCreditLinesAndLoans</th>\n",
              "      <th>NumberOfTimes90DaysLate</th>\n",
              "      <th>NumberRealEstateLoansOrLines</th>\n",
              "      <th>NumberOfTime6089DaysPastDueNotWorse</th>\n",
              "      <th>NumberOfDependents</th>\n",
              "    </tr>\n",
              "  </thead>\n",
              "  <tbody>\n",
              "    <tr>\n",
              "      <th>0</th>\n",
              "      <td>0.766127</td>\n",
              "      <td>45</td>\n",
              "      <td>2</td>\n",
              "      <td>0.802982</td>\n",
              "      <td>9120.0</td>\n",
              "      <td>13</td>\n",
              "      <td>0</td>\n",
              "      <td>6</td>\n",
              "      <td>0</td>\n",
              "      <td>2.0</td>\n",
              "    </tr>\n",
              "    <tr>\n",
              "      <th>1</th>\n",
              "      <td>0.957151</td>\n",
              "      <td>40</td>\n",
              "      <td>0</td>\n",
              "      <td>0.121876</td>\n",
              "      <td>2600.0</td>\n",
              "      <td>4</td>\n",
              "      <td>0</td>\n",
              "      <td>0</td>\n",
              "      <td>0</td>\n",
              "      <td>1.0</td>\n",
              "    </tr>\n",
              "    <tr>\n",
              "      <th>2</th>\n",
              "      <td>0.658180</td>\n",
              "      <td>38</td>\n",
              "      <td>1</td>\n",
              "      <td>0.085113</td>\n",
              "      <td>3042.0</td>\n",
              "      <td>2</td>\n",
              "      <td>1</td>\n",
              "      <td>0</td>\n",
              "      <td>0</td>\n",
              "      <td>0.0</td>\n",
              "    </tr>\n",
              "    <tr>\n",
              "      <th>3</th>\n",
              "      <td>0.233810</td>\n",
              "      <td>30</td>\n",
              "      <td>0</td>\n",
              "      <td>0.036050</td>\n",
              "      <td>3300.0</td>\n",
              "      <td>5</td>\n",
              "      <td>0</td>\n",
              "      <td>0</td>\n",
              "      <td>0</td>\n",
              "      <td>0.0</td>\n",
              "    </tr>\n",
              "    <tr>\n",
              "      <th>4</th>\n",
              "      <td>0.907239</td>\n",
              "      <td>49</td>\n",
              "      <td>1</td>\n",
              "      <td>0.024926</td>\n",
              "      <td>63588.0</td>\n",
              "      <td>7</td>\n",
              "      <td>0</td>\n",
              "      <td>1</td>\n",
              "      <td>0</td>\n",
              "      <td>0.0</td>\n",
              "    </tr>\n",
              "    <tr>\n",
              "      <th>...</th>\n",
              "      <td>...</td>\n",
              "      <td>...</td>\n",
              "      <td>...</td>\n",
              "      <td>...</td>\n",
              "      <td>...</td>\n",
              "      <td>...</td>\n",
              "      <td>...</td>\n",
              "      <td>...</td>\n",
              "      <td>...</td>\n",
              "      <td>...</td>\n",
              "    </tr>\n",
              "    <tr>\n",
              "      <th>149995</th>\n",
              "      <td>0.040674</td>\n",
              "      <td>74</td>\n",
              "      <td>0</td>\n",
              "      <td>0.225131</td>\n",
              "      <td>2100.0</td>\n",
              "      <td>4</td>\n",
              "      <td>0</td>\n",
              "      <td>1</td>\n",
              "      <td>0</td>\n",
              "      <td>0.0</td>\n",
              "    </tr>\n",
              "    <tr>\n",
              "      <th>149996</th>\n",
              "      <td>0.299745</td>\n",
              "      <td>44</td>\n",
              "      <td>0</td>\n",
              "      <td>0.716562</td>\n",
              "      <td>5584.0</td>\n",
              "      <td>4</td>\n",
              "      <td>0</td>\n",
              "      <td>1</td>\n",
              "      <td>0</td>\n",
              "      <td>2.0</td>\n",
              "    </tr>\n",
              "    <tr>\n",
              "      <th>149997</th>\n",
              "      <td>0.246044</td>\n",
              "      <td>58</td>\n",
              "      <td>0</td>\n",
              "      <td>3870.000000</td>\n",
              "      <td>5400.0</td>\n",
              "      <td>18</td>\n",
              "      <td>0</td>\n",
              "      <td>1</td>\n",
              "      <td>0</td>\n",
              "      <td>0.0</td>\n",
              "    </tr>\n",
              "    <tr>\n",
              "      <th>149998</th>\n",
              "      <td>0.000000</td>\n",
              "      <td>30</td>\n",
              "      <td>0</td>\n",
              "      <td>0.000000</td>\n",
              "      <td>5716.0</td>\n",
              "      <td>4</td>\n",
              "      <td>0</td>\n",
              "      <td>0</td>\n",
              "      <td>0</td>\n",
              "      <td>0.0</td>\n",
              "    </tr>\n",
              "    <tr>\n",
              "      <th>149999</th>\n",
              "      <td>0.850283</td>\n",
              "      <td>64</td>\n",
              "      <td>0</td>\n",
              "      <td>0.249908</td>\n",
              "      <td>8158.0</td>\n",
              "      <td>8</td>\n",
              "      <td>0</td>\n",
              "      <td>2</td>\n",
              "      <td>0</td>\n",
              "      <td>0.0</td>\n",
              "    </tr>\n",
              "  </tbody>\n",
              "</table>\n",
              "<p>150000 rows × 10 columns</p>\n",
              "</div>"
            ],
            "text/plain": [
              "        RevolvingUtilizationOfUnsecuredLines  ...  NumberOfDependents\n",
              "0                                   0.766127  ...                 2.0\n",
              "1                                   0.957151  ...                 1.0\n",
              "2                                   0.658180  ...                 0.0\n",
              "3                                   0.233810  ...                 0.0\n",
              "4                                   0.907239  ...                 0.0\n",
              "...                                      ...  ...                 ...\n",
              "149995                              0.040674  ...                 0.0\n",
              "149996                              0.299745  ...                 2.0\n",
              "149997                              0.246044  ...                 0.0\n",
              "149998                              0.000000  ...                 0.0\n",
              "149999                              0.850283  ...                 0.0\n",
              "\n",
              "[150000 rows x 10 columns]"
            ]
          },
          "metadata": {
            "tags": []
          },
          "execution_count": 13
        }
      ]
    },
    {
      "cell_type": "code",
      "metadata": {
        "id": "dzLGBt2Dn4Cw",
        "colab_type": "code",
        "colab": {
          "base_uri": "https://localhost:8080/",
          "height": 33
        },
        "outputId": "a738dfb8-67eb-4b9e-e68f-d221229fa051"
      },
      "source": [
        "#check the values of target variable\n",
        "target.isnull().sum()"
      ],
      "execution_count": null,
      "outputs": [
        {
          "output_type": "execute_result",
          "data": {
            "text/plain": [
              "0"
            ]
          },
          "metadata": {
            "tags": []
          },
          "execution_count": 14
        }
      ]
    },
    {
      "cell_type": "code",
      "metadata": {
        "id": "0LPYSRbtpkYp",
        "colab_type": "code",
        "colab": {
          "base_uri": "https://localhost:8080/",
          "height": 533
        },
        "outputId": "5ff7d297-a7df-47a5-c58e-13350ba3b0ac"
      },
      "source": [
        "#check the data imbalances for target variables\n",
        "target.value_counts()\n",
        "#graphical representation\n",
        "sns.set()\n",
        "sns.countplot(target).set_title(\"Data Distribution\")"
      ],
      "execution_count": null,
      "outputs": [
        {
          "output_type": "execute_result",
          "data": {
            "text/plain": [
              "Text(0.5, 1.0, 'Data Distribution')"
            ]
          },
          "metadata": {
            "tags": []
          },
          "execution_count": 15
        },
        {
          "output_type": "display_data",
          "data": {
            "image/png": "[encoded data removed]",
            "text/plain": [
              "<Figure size 576x576 with 1 Axes>"
            ]
          },
          "metadata": {
            "tags": []
          }
        }
      ]
    },
    {
      "cell_type": "code",
      "metadata": {
        "id": "RiHOx7yGoGyk",
        "colab_type": "code",
        "colab": {
          "base_uri": "https://localhost:8080/",
          "height": 717
        },
        "outputId": "c10e9e4e-c375-4042-8007-e4fbb53f0eb7"
      },
      "source": [
        "#use heat map to plot the correlation\n",
        "sns.heatmap(data_updated.corr(),annot=True)\n",
        "sns.set(font_scale=1.25)\n",
        "plt.show()"
      ],
      "execution_count": null,
      "outputs": [
        {
          "output_type": "display_data",
          "data": {
            "image/png": "[encoded data removed]",
            "text/plain": [
              "<Figure size 576x576 with 2 Axes>"
            ]
          },
          "metadata": {
            "tags": []
          }
        }
      ]
    },
    {
      "cell_type": "markdown",
      "metadata": {
        "id": "EfsUcPUupZF3",
        "colab_type": "text"
      },
      "source": [
        "Feature Selection"
      ]
    },
    {
      "cell_type": "markdown",
      "metadata": {
        "id": "VCvA6tqfqpg_",
        "colab_type": "text"
      },
      "source": [
        "#Fitting Random Forest Classification to the Training set\n"
      ]
    },
    {
      "cell_type": "code",
      "metadata": {
        "id": "t400BXQCpWux",
        "colab_type": "code",
        "colab": {
          "base_uri": "https://localhost:8080/",
          "height": 147
        },
        "outputId": "3b6f560a-a731-4df1-d5aa-e586fd0108ca"
      },
      "source": [
        "from sklearn.ensemble import RandomForestClassifier\n",
        "classifier=RandomForestClassifier(n_estimators=200,criterion='entropy',random_state=0)\n",
        "classifier.fit(data_updated,target)"
      ],
      "execution_count": null,
      "outputs": [
        {
          "output_type": "execute_result",
          "data": {
            "text/plain": [
              "RandomForestClassifier(bootstrap=True, ccp_alpha=0.0, class_weight=None,\n",
              "                       criterion='entropy', max_depth=None, max_features='auto',\n",
              "                       max_leaf_nodes=None, max_samples=None,\n",
              "                       min_impurity_decrease=0.0, min_impurity_split=None,\n",
              "                       min_samples_leaf=1, min_samples_split=2,\n",
              "                       min_weight_fraction_leaf=0.0, n_estimators=200,\n",
              "                       n_jobs=None, oob_score=False, random_state=0, verbose=0,\n",
              "                       warm_start=False)"
            ]
          },
          "metadata": {
            "tags": []
          },
          "execution_count": 17
        }
      ]
    },
    {
      "cell_type": "code",
      "metadata": {
        "id": "6U2vIx7c3fik",
        "colab_type": "code",
        "colab": {}
      },
      "source": [
        "importances=classifier.feature_importances_\n"
      ],
      "execution_count": null,
      "outputs": []
    },
    {
      "cell_type": "code",
      "metadata": {
        "id": "QwGPFg484a2Q",
        "colab_type": "code",
        "colab": {
          "base_uri": "https://localhost:8080/",
          "height": 180
        },
        "outputId": "726b417d-55f1-44b8-b172-85d498e84537"
      },
      "source": [
        "indices=np.argsort(importances)[::-1]\n",
        "#indices\n",
        "for i in range(data_updated.shape[1]):\n",
        "  print(i+1,data_updated.columns[i],importances[i])\n"
      ],
      "execution_count": null,
      "outputs": [
        {
          "output_type": "stream",
          "text": [
            "1 RevolvingUtilizationOfUnsecuredLines 0.21661776391609083\n",
            "2 age 0.12656004600209958\n",
            "3 NumberOfTime3059DaysPastDueNotWorse 0.06359242109126853\n",
            "4 DebtRatio 0.16755053691399696\n",
            "5 MonthlyIncome 0.13676381582760702\n",
            "6 NumberOfOpenCreditLinesAndLoans 0.08563952111857309\n",
            "7 NumberOfTimes90DaysLate 0.08984813530956824\n",
            "8 NumberRealEstateLoansOrLines 0.03306882093742922\n",
            "9 NumberOfTime6089DaysPastDueNotWorse 0.04187756958788617\n",
            "10 NumberOfDependents 0.038481369295480385\n"
          ],
          "name": "stdout"
        }
      ]
    },
    {
      "cell_type": "code",
      "metadata": {
        "id": "zplaiXif7dYZ",
        "colab_type": "code",
        "colab": {
          "base_uri": "https://localhost:8080/",
          "height": 791
        },
        "outputId": "6b75dce9-a5ec-47dc-fe55-7416c4f5ef22"
      },
      "source": [
        "#plot the graph\n",
        "plt.title('Feature Importances')\n",
        "plt.bar(range(data_updated.shape[1]),importances[indices], color=\"green\", align=\"center\")\n",
        "plt.xticks(range(data_updated.shape[1]),data_updated,rotation=90)\n",
        "plt.xlim([-1, data_updated.shape[1]])\n",
        "plt.show()"
      ],
      "execution_count": null,
      "outputs": [
        {
          "output_type": "display_data",
          "data": {
            "image/png": "[encoded data removed]",
            "text/plain": [
              "<Figure size 576x576 with 1 Axes>"
            ]
          },
          "metadata": {
            "tags": []
          }
        }
      ]
    },
    {
      "cell_type": "code",
      "metadata": {
        "id": "h_XNAAukoiLj",
        "colab_type": "code",
        "colab": {}
      },
      "source": [
        "from sklearn.ensemble import AdaBoostClassifier, GradientBoostingClassifier, RandomForestClassifier\n",
        "from sklearn.neighbors import KNeighborsClassifier\n",
        "from sklearn.model_selection import train_test_split\n",
        "from sklearn.metrics import roc_auc_score"
      ],
      "execution_count": null,
      "outputs": []
    },
    {
      "cell_type": "code",
      "metadata": {
        "id": "qcH7RFuI8XFr",
        "colab_type": "code",
        "colab": {}
      },
      "source": [
        "#split the dat into train and test data set\n",
        "from sklearn.model_selection  import train_test_split\n",
        "X_Train,X_Test,Y_Train,Y_Test=train_test_split(data_updated,target,test_size=0.2,random_state=0)"
      ],
      "execution_count": null,
      "outputs": []
    },
    {
      "cell_type": "code",
      "metadata": {
        "id": "kENKC67u9ABp",
        "colab_type": "code",
        "colab": {}
      },
      "source": [
        "#fitting randomforestclassifier to the training set\n",
        "RF=RandomForestClassifier(n_estimators=100,criterion='gini',max_depth=None,min_samples_split=2,min_samples_leaf=1,min_weight_fraction_leaf=0.0,max_features='auto',bootstrap=True,oob_score=False,n_jobs=1,random_state=None,verbose=0)\n",
        "\n"
      ],
      "execution_count": null,
      "outputs": []
    },
    {
      "cell_type": "code",
      "metadata": {
        "id": "dF9yvKLA_eo_",
        "colab_type": "code",
        "colab": {
          "base_uri": "https://localhost:8080/",
          "height": 147
        },
        "outputId": "9beb8435-c09b-4b0a-b463-2bc5c4618769"
      },
      "source": [
        "#fit the model\n",
        "RF.fit(X_Train,Y_Train)"
      ],
      "execution_count": null,
      "outputs": [
        {
          "output_type": "execute_result",
          "data": {
            "text/plain": [
              "RandomForestClassifier(bootstrap=True, ccp_alpha=0.0, class_weight=None,\n",
              "                       criterion='gini', max_depth=None, max_features='auto',\n",
              "                       max_leaf_nodes=None, max_samples=None,\n",
              "                       min_impurity_decrease=0.0, min_impurity_split=None,\n",
              "                       min_samples_leaf=1, min_samples_split=2,\n",
              "                       min_weight_fraction_leaf=0.0, n_estimators=100, n_jobs=1,\n",
              "                       oob_score=False, random_state=None, verbose=0,\n",
              "                       warm_start=False)"
            ]
          },
          "metadata": {
            "tags": []
          },
          "execution_count": 24
        }
      ]
    },
    {
      "cell_type": "code",
      "metadata": {
        "id": "Aso83gAywRo5",
        "colab_type": "code",
        "colab": {}
      },
      "source": [
        "#predict the test results\n",
        "y_pred=RF.predict(X_Test)"
      ],
      "execution_count": null,
      "outputs": []
    },
    {
      "cell_type": "code",
      "metadata": {
        "id": "Q0PdtmbVyvMp",
        "colab_type": "code",
        "colab": {}
      },
      "source": [
        "# Making the Confusion Matrix \n",
        "from sklearn.metrics import confusion_matrix\n",
        "cm = confusion_matrix(Y_Test, y_pred)\n",
        "np.set_printoptions(precision=2)"
      ],
      "execution_count": null,
      "outputs": []
    },
    {
      "cell_type": "code",
      "metadata": {
        "id": "fYvvS8dCy6X5",
        "colab_type": "code",
        "colab": {
          "base_uri": "https://localhost:8080/",
          "height": 50
        },
        "outputId": "5ecc32b5-cec8-4736-c6f4-9a26003d70bd"
      },
      "source": [
        "#print the confusion matrix\n",
        "cm"
      ],
      "execution_count": null,
      "outputs": [
        {
          "output_type": "execute_result",
          "data": {
            "text/plain": [
              "array([[27653,   304],\n",
              "       [ 1680,   363]])"
            ]
          },
          "metadata": {
            "tags": []
          },
          "execution_count": 111
        }
      ]
    },
    {
      "cell_type": "code",
      "metadata": {
        "id": "XcFbZR0ly_7V",
        "colab_type": "code",
        "colab": {
          "base_uri": "https://localhost:8080/",
          "height": 163
        },
        "outputId": "75c0257e-357b-423c-9f10-825c6fece4ec"
      },
      "source": [
        "#Let's see how our model performed\n",
        "from sklearn.metrics import classification_report\n",
        "print(classification_report(Y_Test, y_pred))"
      ],
      "execution_count": null,
      "outputs": [
        {
          "output_type": "stream",
          "text": [
            "              precision    recall  f1-score   support\n",
            "\n",
            "           0       0.94      0.99      0.97     27957\n",
            "           1       0.54      0.18      0.27      2043\n",
            "\n",
            "    accuracy                           0.93     30000\n",
            "   macro avg       0.74      0.58      0.62     30000\n",
            "weighted avg       0.92      0.93      0.92     30000\n",
            "\n"
          ],
          "name": "stdout"
        }
      ]
    },
    {
      "cell_type": "code",
      "metadata": {
        "id": "M4SbNyg8051B",
        "colab_type": "code",
        "colab": {
          "base_uri": "https://localhost:8080/",
          "height": 33
        },
        "outputId": "91bfe879-bfc8-4e2f-aa8c-3ddb22da0d3d"
      },
      "source": [
        "from sklearn.metrics import roc_auc_score\n",
        "#roc_auc_score(Y_Test,y_pred)"
      ],
      "execution_count": null,
      "outputs": [
        {
          "output_type": "execute_result",
          "data": {
            "text/plain": [
              "0.5834030202770492"
            ]
          },
          "metadata": {
            "tags": []
          },
          "execution_count": 116
        }
      ]
    },
    {
      "cell_type": "code",
      "metadata": {
        "id": "RZ3AaC5a1tAC",
        "colab_type": "code",
        "colab": {
          "base_uri": "https://localhost:8080/",
          "height": 33
        },
        "outputId": "0d3e2551-a97e-4144-df2a-071ab9e79230"
      },
      "source": [
        "test_labels=RF.predict_proba(X_Test)[:,1]\n",
        "roc_auc_score(Y_Test,test_labels)"
      ],
      "execution_count": null,
      "outputs": [
        {
          "output_type": "execute_result",
          "data": {
            "text/plain": [
              "0.8316511471510046"
            ]
          },
          "metadata": {
            "tags": []
          },
          "execution_count": 122
        }
      ]
    },
    {
      "cell_type": "markdown",
      "metadata": {
        "id": "OQdjbrHQ4PNK",
        "colab_type": "text"
      },
      "source": [
        "**KNN Classifier**"
      ]
    },
    {
      "cell_type": "code",
      "metadata": {
        "id": "CJfRQr434Sw_",
        "colab_type": "code",
        "colab": {
          "base_uri": "https://localhost:8080/",
          "height": 66
        },
        "outputId": "06e8f64c-508b-4c60-ee08-859f31d8d71e"
      },
      "source": [
        "from sklearn.neighbors import KNeighborsClassifier\n",
        "#different algos are -- Brute,ball_tree,kd_tree -- Nearest neighbor alogos\n",
        "knn=KNeighborsClassifier(n_neighbors=5,weights='uniform',algorithm='auto',p=2,metric='minkowski',metric_params=None)\n",
        "knn.fit(X_Train,Y_Train)"
      ],
      "execution_count": null,
      "outputs": [
        {
          "output_type": "execute_result",
          "data": {
            "text/plain": [
              "KNeighborsClassifier(algorithm='auto', leaf_size=30, metric='minkowski',\n",
              "                     metric_params=None, n_jobs=None, n_neighbors=5, p=2,\n",
              "                     weights='uniform')"
            ]
          },
          "metadata": {
            "tags": []
          },
          "execution_count": 124
        }
      ]
    },
    {
      "cell_type": "code",
      "metadata": {
        "id": "IxuZemJd8UYv",
        "colab_type": "code",
        "colab": {}
      },
      "source": [
        "#predict the test results\n",
        "y_pred=knn.predict(X_Test)"
      ],
      "execution_count": null,
      "outputs": []
    },
    {
      "cell_type": "code",
      "metadata": {
        "id": "fGw0RMuE6c1e",
        "colab_type": "code",
        "colab": {
          "base_uri": "https://localhost:8080/",
          "height": 50
        },
        "outputId": "23d1a2a6-2a2b-4a61-bf60-d619154a00bb"
      },
      "source": [
        "# Making the Confusion Matrix \n",
        "from sklearn.metrics import confusion_matrix\n",
        "cm = confusion_matrix(Y_Test,y_pred)\n",
        "np.set_printoptions(precision=2)\n",
        "cm"
      ],
      "execution_count": null,
      "outputs": [
        {
          "output_type": "execute_result",
          "data": {
            "text/plain": [
              "array([[27865,    92],\n",
              "       [ 1991,    52]])"
            ]
          },
          "metadata": {
            "tags": []
          },
          "execution_count": 129
        }
      ]
    },
    {
      "cell_type": "code",
      "metadata": {
        "id": "fWoZBhDU6nZC",
        "colab_type": "code",
        "colab": {
          "base_uri": "https://localhost:8080/",
          "height": 163
        },
        "outputId": "e5e7c408-fe41-4222-a7c3-579deee247ee"
      },
      "source": [
        "#Let's see how our model performed\n",
        "from sklearn.metrics import classification_report\n",
        "print(classification_report(Y_Test, y_pred))"
      ],
      "execution_count": null,
      "outputs": [
        {
          "output_type": "stream",
          "text": [
            "              precision    recall  f1-score   support\n",
            "\n",
            "           0       0.93      1.00      0.96     27957\n",
            "           1       0.36      0.03      0.05      2043\n",
            "\n",
            "    accuracy                           0.93     30000\n",
            "   macro avg       0.65      0.51      0.51     30000\n",
            "weighted avg       0.89      0.93      0.90     30000\n",
            "\n"
          ],
          "name": "stdout"
        }
      ]
    },
    {
      "cell_type": "markdown",
      "metadata": {
        "id": "BaJh-s--62uJ",
        "colab_type": "text"
      },
      "source": [
        "Fix ADABOOST Classifier"
      ]
    },
    {
      "cell_type": "code",
      "metadata": {
        "id": "IFII_JmF6u4p",
        "colab_type": "code",
        "colab": {
          "base_uri": "https://localhost:8080/",
          "height": 50
        },
        "outputId": "01361ef9-5513-4d49-8a44-b7567886f359"
      },
      "source": [
        "from sklearn.ensemble import AdaBoostClassifier\n",
        "ADA=AdaBoostClassifier(base_estimator=None,n_estimators=200,learning_rate=1.0)\n",
        "ADA.fit(X_Train,Y_Train)"
      ],
      "execution_count": null,
      "outputs": [
        {
          "output_type": "execute_result",
          "data": {
            "text/plain": [
              "AdaBoostClassifier(algorithm='SAMME.R', base_estimator=None, learning_rate=1.0,\n",
              "                   n_estimators=200, random_state=None)"
            ]
          },
          "metadata": {
            "tags": []
          },
          "execution_count": 127
        }
      ]
    },
    {
      "cell_type": "code",
      "metadata": {
        "id": "Ew7WiY058eH2",
        "colab_type": "code",
        "colab": {}
      },
      "source": [
        "#predict the test results\n",
        "y_pred=ADA.predict(X_Test)"
      ],
      "execution_count": null,
      "outputs": []
    },
    {
      "cell_type": "code",
      "metadata": {
        "id": "x9SFTY5p8O4y",
        "colab_type": "code",
        "colab": {
          "base_uri": "https://localhost:8080/",
          "height": 50
        },
        "outputId": "dd702433-8a5d-4a25-8617-50fe312fbb5b"
      },
      "source": [
        "cm = confusion_matrix(Y_Test,y_pred)\n",
        "np.set_printoptions(precision=2)\n",
        "cm"
      ],
      "execution_count": null,
      "outputs": [
        {
          "output_type": "execute_result",
          "data": {
            "text/plain": [
              "array([[27644,   313],\n",
              "       [ 1632,   411]])"
            ]
          },
          "metadata": {
            "tags": []
          },
          "execution_count": 132
        }
      ]
    },
    {
      "cell_type": "code",
      "metadata": {
        "id": "YP1ixYZk8mZI",
        "colab_type": "code",
        "colab": {
          "base_uri": "https://localhost:8080/",
          "height": 163
        },
        "outputId": "ca137632-bed5-49c6-fdb3-414fdeba5509"
      },
      "source": [
        "#Let's see how our model performed\n",
        "from sklearn.metrics import classification_report\n",
        "print(classification_report(Y_Test, y_pred))"
      ],
      "execution_count": null,
      "outputs": [
        {
          "output_type": "stream",
          "text": [
            "              precision    recall  f1-score   support\n",
            "\n",
            "           0       0.94      0.99      0.97     27957\n",
            "           1       0.57      0.20      0.30      2043\n",
            "\n",
            "    accuracy                           0.94     30000\n",
            "   macro avg       0.76      0.59      0.63     30000\n",
            "weighted avg       0.92      0.94      0.92     30000\n",
            "\n"
          ],
          "name": "stdout"
        }
      ]
    },
    {
      "cell_type": "markdown",
      "metadata": {
        "id": "P7mKhfed8wvf",
        "colab_type": "text"
      },
      "source": [
        "**Use Gradient Boosting **"
      ]
    },
    {
      "cell_type": "code",
      "metadata": {
        "id": "eAaUKMBq8see",
        "colab_type": "code",
        "colab": {
          "base_uri": "https://localhost:8080/",
          "height": 180
        },
        "outputId": "6ea1ced3-a3a5-46fc-c4ef-2c31f83c8c27"
      },
      "source": [
        "from sklearn.ensemble import GradientBoostingClassifier\n",
        "GB=GradientBoostingClassifier(loss='deviance', learning_rate=0.1, n_estimators=200, subsample=1.0,\n",
        "                                   min_samples_split=2, min_samples_leaf=1, min_weight_fraction_leaf=0.0, \n",
        "                                   max_depth=3,\n",
        "                                   init=None, random_state=None, max_features=None, verbose=0)\n",
        "GB.fit(X_Train,Y_Train)"
      ],
      "execution_count": null,
      "outputs": [
        {
          "output_type": "execute_result",
          "data": {
            "text/plain": [
              "GradientBoostingClassifier(ccp_alpha=0.0, criterion='friedman_mse', init=None,\n",
              "                           learning_rate=0.1, loss='deviance', max_depth=3,\n",
              "                           max_features=None, max_leaf_nodes=None,\n",
              "                           min_impurity_decrease=0.0, min_impurity_split=None,\n",
              "                           min_samples_leaf=1, min_samples_split=2,\n",
              "                           min_weight_fraction_leaf=0.0, n_estimators=200,\n",
              "                           n_iter_no_change=None, presort='deprecated',\n",
              "                           random_state=None, subsample=1.0, tol=0.0001,\n",
              "                           validation_fraction=0.1, verbose=0,\n",
              "                           warm_start=False)"
            ]
          },
          "metadata": {
            "tags": []
          },
          "execution_count": 25
        }
      ]
    },
    {
      "cell_type": "code",
      "metadata": {
        "id": "j6JOhhWiAf1d",
        "colab_type": "code",
        "colab": {}
      },
      "source": [
        "#predict the test results\n",
        "y_pred=GB.predict(X_Test)\n"
      ],
      "execution_count": null,
      "outputs": []
    },
    {
      "cell_type": "code",
      "metadata": {
        "id": "PUeDUcZWApmw",
        "colab_type": "code",
        "colab": {
          "base_uri": "https://localhost:8080/",
          "height": 50
        },
        "outputId": "9410b83b-cad2-4771-df54-7cc055048ea3"
      },
      "source": [
        "from sklearn.metrics import confusion_matrix\n",
        "cm = confusion_matrix(Y_Test,y_pred)\n",
        "np.set_printoptions(precision=2)\n",
        "cm"
      ],
      "execution_count": null,
      "outputs": [
        {
          "output_type": "execute_result",
          "data": {
            "text/plain": [
              "array([[27681,   276],\n",
              "       [ 1641,   402]])"
            ]
          },
          "metadata": {
            "tags": []
          },
          "execution_count": 29
        }
      ]
    },
    {
      "cell_type": "code",
      "metadata": {
        "id": "rKhlxKiqArsA",
        "colab_type": "code",
        "colab": {
          "base_uri": "https://localhost:8080/",
          "height": 163
        },
        "outputId": "c25a6f55-9cd4-4cd6-d736-300b9550eecd"
      },
      "source": [
        "#Let's see how our model performed\n",
        "from sklearn.metrics import classification_report\n",
        "print(classification_report(Y_Test, y_pred))"
      ],
      "execution_count": null,
      "outputs": [
        {
          "output_type": "stream",
          "text": [
            "              precision    recall  f1-score   support\n",
            "\n",
            "           0       0.94      0.99      0.97     27957\n",
            "           1       0.59      0.20      0.30      2043\n",
            "\n",
            "    accuracy                           0.94     30000\n",
            "   macro avg       0.77      0.59      0.63     30000\n",
            "weighted avg       0.92      0.94      0.92     30000\n",
            "\n"
          ],
          "name": "stdout"
        }
      ]
    },
    {
      "cell_type": "markdown",
      "metadata": {
        "id": "U0Co09NMEion",
        "colab_type": "text"
      },
      "source": [
        "Cross Validation Scores"
      ]
    },
    {
      "cell_type": "code",
      "metadata": {
        "id": "c1t6q0UUEhwD",
        "colab_type": "code",
        "colab": {}
      },
      "source": [
        "from sklearn.model_selection import cross_val_score\n",
        "\n",
        "# The results from each evaluation are averaged together for a final score, then the final model is fit on the entire dataset for operationalization.\n",
        "def cvDictGen(functions,scr,X,Y,cv=5,verbose=1):\n",
        "  cvDict={}\n",
        "  for func in functions:\n",
        "\n",
        "    cvScore=cross_val_score(X,Y,cv=cv,verbose=verbose,scoring=scr)\n",
        "    cvDict[str(fun).splits('(')[0]]=[cvScore.mean(),cvScore.std()]\n",
        "\n",
        "  return cvDict\n",
        "\n",
        "def cvDictNormalize(cvDict):\n",
        "  cvDictNormalized = {}\n",
        "  for key in cvDict.keys():\n",
        "    for  i in cvDict[key]:\n",
        "      cvDictNormalized[key]= ['{:0.2f}'.format((cvDict[key][0]/cvDict[cvDict.keys()[0]][0])),\n",
        "                                     '{:0.2f}'.format((cvDict[key][1]/cvDict[cvDict.keys()[0]][1]))]\n",
        "  return cvDictNormalized                 \n",
        "\n",
        "           \n"
      ],
      "execution_count": null,
      "outputs": []
    },
    {
      "cell_type": "markdown",
      "metadata": {
        "id": "Ma8esWbfFYEK",
        "colab_type": "text"
      },
      "source": [
        "Use Deep learning - 1D CNN and ADABOOST"
      ]
    },
    {
      "cell_type": "code",
      "metadata": {
        "id": "z_oLzVTFGpCc",
        "colab_type": "code",
        "colab": {}
      },
      "source": [
        "#imkort keras libraries\n",
        "from keras.models import Sequential\n",
        "from keras.layers import Conv1D\n",
        "from keras.layers import MaxPooling1D\n",
        "from keras.layers import Flatten\n",
        "from keras.layers import Dense\n",
        "from keras.utils import np_utils"
      ],
      "execution_count": null,
      "outputs": []
    },
    {
      "cell_type": "code",
      "metadata": {
        "id": "DdYOmOt_IvKZ",
        "colab_type": "code",
        "colab": {}
      },
      "source": [
        "from keras.callbacks import ModelCheckpoint\n",
        "from keras.callbacks import EarlyStopping"
      ],
      "execution_count": null,
      "outputs": []
    },
    {
      "cell_type": "code",
      "metadata": {
        "id": "W_LwOsTtLZ0H",
        "colab_type": "code",
        "colab": {
          "base_uri": "https://localhost:8080/",
          "height": 135
        },
        "outputId": "f06ff084-085c-4d08-f30a-4cb57e4f35af"
      },
      "source": [
        "from sklearn.ensemble import AdaBoostClassifier,RandomForestClassifier\n",
        "from sklearn.metrics import confusion_matrix,accuracy_score,roc_auc_score,classification,roc_curve\n",
        "from sklearn.metrics import confusion_matrix,accuracy_score,r2_score,mean_squared_error,roc_auc_score,roc_curve,auc, f1_score, precision_score, recall_score\n",
        "from sklearn.metrics import classification_report\n",
        "from yellowbrick.classifier import ClassificationReport\n",
        "from sklearn.metrics import log_loss\n",
        "from matplotlib import pyplot\n",
        "from numpy import array\n",
        "from sklearn import preprocessing\n",
        "import seaborn as sns\n",
        "from xgboost import XGBClassifier\n",
        "\n",
        "from sklearn.preprocessing import LabelBinarizer,label_binarize\n",
        "import itertools \n",
        "from keras.models import load_model\n",
        "from keras.wrappers.scikit_learn import KerasClassifier\n",
        "from sklearn.preprocessing import LabelEncoder\n",
        "import warnings\n",
        "warnings.filterwarnings(\"ignore\")\n",
        "from sklearn.neighbors import KNeighborsClassifier\n",
        "from sklearn.svm import SVC\n",
        "from sklearn import tree\n",
        "from sklearn.model_selection import GridSearchCV\n",
        "from sklearn.naive_bayes import GaussianNB\n",
        "from sklearn.model_selection import RandomizedSearchCV"
      ],
      "execution_count": null,
      "outputs": [
        {
          "output_type": "stream",
          "text": [
            "/usr/local/lib/python3.6/dist-packages/sklearn/utils/deprecation.py:144: FutureWarning: The sklearn.metrics.classification module is  deprecated in version 0.22 and will be removed in version 0.24. The corresponding classes / functions should instead be imported from sklearn.metrics. Anything that cannot be imported from sklearn.metrics is now part of the private API.\n",
            "  warnings.warn(message, FutureWarning)\n",
            "/usr/local/lib/python3.6/dist-packages/sklearn/externals/six.py:31: FutureWarning: The module is deprecated in version 0.21 and will be removed in version 0.23 since we've dropped support for Python 2.7. Please rely on the official version of six (https://pypi.org/project/six/).\n",
            "  \"(https://pypi.org/project/six/).\", FutureWarning)\n",
            "/usr/local/lib/python3.6/dist-packages/sklearn/externals/joblib/__init__.py:15: FutureWarning: sklearn.externals.joblib is deprecated in 0.21 and will be removed in 0.23. Please import this functionality directly from joblib, which can be installed with: pip install joblib. If this warning is raised when loading pickled models, you may need to re-serialize those models with scikit-learn 0.21+.\n",
            "  warnings.warn(msg, category=FutureWarning)\n"
          ],
          "name": "stderr"
        }
      ]
    },
    {
      "cell_type": "code",
      "metadata": {
        "id": "IN3fZUWNLj8v",
        "colab_type": "code",
        "colab": {
          "base_uri": "https://localhost:8080/",
          "height": 33
        },
        "outputId": "57632d76-5f96-425b-97a6-17cc5ce0e027"
      },
      "source": [
        "data_updated.shape"
      ],
      "execution_count": null,
      "outputs": [
        {
          "output_type": "execute_result",
          "data": {
            "text/plain": [
              "(150000, 10)"
            ]
          },
          "metadata": {
            "tags": []
          },
          "execution_count": 34
        }
      ]
    },
    {
      "cell_type": "code",
      "metadata": {
        "id": "RhykNQg0kOXv",
        "colab_type": "code",
        "colab": {
          "base_uri": "https://localhost:8080/",
          "height": 33
        },
        "outputId": "06c1287d-e838-460f-ef2a-381faa59c086"
      },
      "source": [
        "data_updated.shape[1]"
      ],
      "execution_count": null,
      "outputs": [
        {
          "output_type": "execute_result",
          "data": {
            "text/plain": [
              "10"
            ]
          },
          "metadata": {
            "tags": []
          },
          "execution_count": 35
        }
      ]
    },
    {
      "cell_type": "code",
      "metadata": {
        "id": "RV0_OaKILp_-",
        "colab_type": "code",
        "colab": {
          "base_uri": "https://localhost:8080/",
          "height": 33
        },
        "outputId": "eca6175c-ee86-42fe-f306-6245a710d87c"
      },
      "source": [
        "target.shape"
      ],
      "execution_count": null,
      "outputs": [
        {
          "output_type": "execute_result",
          "data": {
            "text/plain": [
              "(150000,)"
            ]
          },
          "metadata": {
            "tags": []
          },
          "execution_count": 36
        }
      ]
    },
    {
      "cell_type": "code",
      "metadata": {
        "id": "gMQ6WKP6L1eC",
        "colab_type": "code",
        "colab": {}
      },
      "source": [
        "#split the dat into train and test data set\n",
        "from sklearn.model_selection  import train_test_split\n",
        "X_Train,X_Test,Y_Train,Y_Test=train_test_split(data_updated,target,test_size=0.3,random_state=0)"
      ],
      "execution_count": null,
      "outputs": []
    },
    {
      "cell_type": "code",
      "metadata": {
        "id": "LEEAxpTHrC-F",
        "colab_type": "code",
        "colab": {
          "base_uri": "https://localhost:8080/",
          "height": 118
        },
        "outputId": "3e359822-4761-4066-ddcc-9aef2c3b8db4"
      },
      "source": [
        "from google.colab import drive\n",
        "drive.mount('/content/gdrive')"
      ],
      "execution_count": null,
      "outputs": [
        {
          "output_type": "stream",
          "text": [
            "Go to this URL in a browser: https://accounts.google.com/o/oauth2/auth?client_id=947318989803-6bn6qk8qdgf4n4g3pfee6491hc0brc4i.apps.googleusercontent.com&redirect_uri=urn%3aietf%3awg%3aoauth%3a2.0%3aoob&scope=email%20https%3a%2f%2fwww.googleapis.com%2fauth%2fdocs.test%20https%3a%2f%2fwww.googleapis.com%2fauth%2fdrive%20https%3a%2f%2fwww.googleapis.com%2fauth%2fdrive.photos.readonly%20https%3a%2f%2fwww.googleapis.com%2fauth%2fpeopleapi.readonly&response_type=code\n",
            "\n",
            "Enter your authorization code:\n",
            "··········\n",
            "Mounted at /content/gdrive\n"
          ],
          "name": "stdout"
        }
      ]
    },
    {
      "cell_type": "code",
      "metadata": {
        "id": "C9blsz4R8RPy",
        "colab_type": "code",
        "colab": {}
      },
      "source": [
        "#Define the function to plot confusion matrix\n",
        "def plot_confusion_matrix(cm,classes,normalize=False,title=\"Confusion Matrix\",cmap=plt.cm.Blues):\n",
        "\n",
        "  if normalize:\n",
        "    cm=cm.astype('float')/cm.sum(axis=1)[:,np.newaxis]\n",
        "    print(\"Normalized confusion matrix\")\n",
        "  else:\n",
        "    print(\"Confusion matrix without normalization\") \n",
        "  print(cm)\n",
        "\n",
        "  plt.imshow(cm,interpolation='nearest',cmap=cmap)\n",
        "  plt.title(title)\n",
        "  plt.colorbar()\n",
        "  tick_marks=np.arange(len(classes))\n",
        "  plt.xticks(tick_marks,classes,rotation=45)\n",
        "  plt.yticks(tick_marks,classes)\n",
        "\n",
        "  fmt='.2f' if normalize else 'd'\n",
        "  thres=cm.max()/2\n",
        "  #itertools is used for efficient looping - it is cartesian product of two matrices\n",
        "  for i,j in itertools.product(range(cm.shape[0]),range(cm.shape[1])):\n",
        "    plt.text(j,i,format(cm[i,j],fmt),horizontalalignment=\"center\",color=\"white\" if cm[i,j]> thres else \"black\") \n",
        "  plt.ylabel(\"True Label\")\n",
        "  plt.xlabel(\"Predicted Label\")\n",
        "  plt.tight_layout()  \n",
        "  "
      ],
      "execution_count": null,
      "outputs": []
    },
    {
      "cell_type": "code",
      "metadata": {
        "id": "KvgWP1XnEtqR",
        "colab_type": "code",
        "colab": {}
      },
      "source": [
        "#define the function to plot the roc_auc _curve\n",
        "def class_roc_auc_score(y_test,y_pred,avrage=\"micro\"):\n",
        "  lb=LabelBinarizer()\n",
        "  lb.fit(y_test)\n",
        "  y_test=lb.fit_transform(y_test)\n",
        "  y_predict=lb.fit_transform(y_pred)\n",
        "  return roc_auc_score(y_test,y_predict)"
      ],
      "execution_count": null,
      "outputs": []
    },
    {
      "cell_type": "code",
      "metadata": {
        "id": "bUuACO6OL5nP",
        "colab_type": "code",
        "colab": {}
      },
      "source": [
        "#define the CNN model\n",
        "def CNN(X_Train,X_Test,Y_Train,Y_Test):\n",
        "  #Convert the Dataframe to NP arrays\n",
        "  X_train=X_Train.to_numpy()\n",
        "  Y_train=Y_Train.to_numpy()\n",
        "  X_test=X_Test.to_numpy()\n",
        "  \n",
        "  num_classes=2\n",
        "  batch_size=64\n",
        "  epochs=10\n",
        "\n",
        "  #define the input\n",
        "  #convert the input dimenison to the form CCNN requires -> Batch size,Dim,# of channels.\n",
        "  # [samples, time steps, features].\n",
        "  X_train=X_train.reshape(X_train.shape[0],X_train.shape[1],1).astype('float32')\n",
        "  X_test=X_test.reshape(X_test.shape[0],X_test.shape[1],1).astype('float32')\n",
        "  y_train1 = np_utils.to_categorical(Y_Train)\n",
        "  y_test1=np_utils.to_categorical(Y_Test)\n",
        "\n",
        "  #define the model\n",
        "  model=Sequential()\n",
        "  #create 32 filters with size 3 - convulution layer\n",
        "  model.add(Conv1D(filters=32,kernel_size=3,input_shape=(10,1)))\n",
        "  #Create pooling layer\n",
        "  model.add(MaxPooling1D(pool_size=3))\n",
        "  #Flatten the layer\n",
        "  model.add(Flatten())\n",
        "  #add a dense layer\n",
        "  model.add(Dense(512,activation='relu'))\n",
        "  #add a output layer\n",
        "  model.add(Dense(2,activation='softmax'))\n",
        "\n",
        "  #print the summary of the model\n",
        "  model.summary()\n",
        "\n",
        "  #compile the model\n",
        "  model.compile(loss='categorical_crossentropy',optimizer='rmsprop',metrics=['accuracy'])\n",
        "\n",
        "  #checkpoint creation\n",
        "  checkpoint=ModelCheckpoint('/content/gdrive/My Drive/Finance/Creditrisk/CNN_Model.h5',monitor='val_loss',mode='min',save_best_only=True,verbose=1)\n",
        "\n",
        "  #earlystop\n",
        "  earlystop=EarlyStopping(monitor='val_loss',min_delta=0,patience=5,verbose=1,restore_best_weights=True)\n",
        "\n",
        "  #callbacks\n",
        "  callbacks=[checkpoint,earlystop]\n",
        "  \n",
        "  #call the model\n",
        "  history=model.fit(X_train,y_train1,batch_size=batch_size,epochs=epochs,callbacks=callbacks,validation_data=(X_test,y_test1),shuffle=True)\n",
        "\n",
        "  #compute the score\n",
        "  score=model.evaluate(X_test, y_test1, verbose=0)\n",
        "\n",
        "  #print the scores\n",
        "  print(\"Test loss:\",score[0])\n",
        "  print(\"Test accuracy:\",score[1])\n",
        "\n",
        "  history_dict=history.history\n",
        "  loss_values=history_dict['loss']\n",
        "  val_loss_values=history_dict['val_loss']\n",
        "  train_acc=history_dict['accuracy']\n",
        "  val_acc=history_dict['val_accuracy']\n",
        "\n",
        "  epochs=range(1,len(loss_values)+1)\n",
        "\n",
        "  #plot the training and validation loss\n",
        "  line1=plt.plot(epochs,val_loss_values,label='Validation/Test Loss')\n",
        "  line2=plt.plot(epochs,loss_values,label='Training loss')\n",
        "  plt.xlabel(\"Epochs\")\n",
        "  plt.ylabel(\"Loss\")\n",
        "  plt.grid(True)\n",
        "  plt.show()\n",
        "\n",
        "  #plot the training and validation accuracy\n",
        "  line1=plt.plot(epochs,val_acc,label=\"Validation Accuracy\")\n",
        "  line2=plt.plot(epochs,train_acc,label=\"Training Accuracy\")\n",
        "  plt.ylabel(\"Accuracy\")\n",
        "  plt.grid(True)\n",
        "  plt.show()\n",
        "\n",
        "  #Plot the confusion matrix\n",
        "  y_pred=model.predict_classes(X_test)\n",
        "\n",
        "  cnf_matrix=confusion_matrix(Y_Test,y_pred)\n",
        "  np.set_printoptions(precision=2)\n",
        "  plt.figure()\n",
        "  plot_confusion_matrix(cnf_matrix,classes=['0','1'])\n",
        "\n",
        "  #AUC_ROC curve\n",
        "  auc1=class_roc_auc_score(Y_Test,y_pred)\n",
        "  print('AUC for CNN:',auc1)\n",
        "  y_score=model.predict_proba(X_test)\n",
        "  n_classes=2\n",
        "  fpr=dict()\n",
        "  tpr=dict()\n",
        "  roc_auc=dict()\n",
        "  y_test1=label_binarize(y_test1,classes=[0,1])\n",
        "  for i in range(n_classes):\n",
        "    fpr[i],tpr[i],_=roc_curve(y_test1[:,1],y_score[:,1])\n",
        "    roc_auc[i]=auc(fpr[i],tpr[i])\n",
        "  colors = list(['blue', 'red'])\n",
        "\n",
        "  #plot the curve for auc \n",
        "  for i, color in zip(range(n_classes),colors):\n",
        "    plt.plot(fpr[i],tpr[i],label='ROC curve of class {0} (area = {1:0.2f})'.format(i, roc_auc[i]))\n",
        "  plt.plot([0,1],[1,0],'k--')\n",
        "  plt.xlim([-0.05,1.0])\n",
        "  plt.ylim([0.0, 1.05])\n",
        "  plt.xlabel(\"False positive rate\")\n",
        "  plt.ylabel(\"True positive rate\")\n",
        "  plt.title(\"ROC-AUC Curve\")\n",
        "  plt.legend(loc=\"lower right\")\n",
        "  plt.show()  \n",
        "\n",
        "  #Print the classification report\n",
        "  print(\"Classification Report\")\n",
        "  print(classification_report(Y_Test,y_pred))\n"
      ],
      "execution_count": null,
      "outputs": []
    },
    {
      "cell_type": "code",
      "metadata": {
        "id": "WZr2oqbvtmZx",
        "colab_type": "code",
        "colab": {
          "base_uri": "https://localhost:8080/",
          "height": 1000
        },
        "outputId": "e044707a-fa64-48da-d6b9-9c0722688a5a"
      },
      "source": [
        "#Call the function to run the model\n",
        "CNN(X_Train,X_Test,Y_Train,Y_Test)"
      ],
      "execution_count": null,
      "outputs": [
        {
          "output_type": "stream",
          "text": [
            "Model: \"sequential\"\n",
            "_________________________________________________________________\n",
            "Layer (type)                 Output Shape              Param #   \n",
            "=================================================================\n",
            "conv1d (Conv1D)              (None, 8, 32)             128       \n",
            "_________________________________________________________________\n",
            "max_pooling1d (MaxPooling1D) (None, 2, 32)             0         \n",
            "_________________________________________________________________\n",
            "flatten (Flatten)            (None, 64)                0         \n",
            "_________________________________________________________________\n",
            "dense (Dense)                (None, 512)               33280     \n",
            "_________________________________________________________________\n",
            "dense_1 (Dense)              (None, 2)                 1026      \n",
            "=================================================================\n",
            "Total params: 34,434\n",
            "Trainable params: 34,434\n",
            "Non-trainable params: 0\n",
            "_________________________________________________________________\n",
            "Epoch 1/10\n",
            "1636/1641 [============================>.] - ETA: 0s - loss: 15.8677 - accuracy: 0.8713\n",
            "Epoch 00001: val_loss improved from inf to 0.39689, saving model to /content/gdrive/My Drive/Finance/Creditrisk/CNN_Model.h5\n",
            "1641/1641 [==============================] - 5s 3ms/step - loss: 15.8245 - accuracy: 0.8715 - val_loss: 0.3969 - val_accuracy: 0.9335\n",
            "Epoch 2/10\n",
            "1622/1641 [============================>.] - ETA: 0s - loss: 0.2581 - accuracy: 0.9289\n",
            "Epoch 00002: val_loss improved from 0.39689 to 0.21667, saving model to /content/gdrive/My Drive/Finance/Creditrisk/CNN_Model.h5\n",
            "1641/1641 [==============================] - 4s 2ms/step - loss: 0.2585 - accuracy: 0.9289 - val_loss: 0.2167 - val_accuracy: 0.9343\n",
            "Epoch 3/10\n",
            "1633/1641 [============================>.] - ETA: 0s - loss: 0.2398 - accuracy: 0.9332\n",
            "Epoch 00003: val_loss did not improve from 0.21667\n",
            "1641/1641 [==============================] - 4s 2ms/step - loss: 0.2398 - accuracy: 0.9332 - val_loss: 0.2250 - val_accuracy: 0.9346\n",
            "Epoch 4/10\n",
            "1627/1641 [============================>.] - ETA: 0s - loss: 0.2414 - accuracy: 0.9335\n",
            "Epoch 00004: val_loss improved from 0.21667 to 0.21268, saving model to /content/gdrive/My Drive/Finance/Creditrisk/CNN_Model.h5\n",
            "1641/1641 [==============================] - 4s 3ms/step - loss: 0.2414 - accuracy: 0.9335 - val_loss: 0.2127 - val_accuracy: 0.9343\n",
            "Epoch 5/10\n",
            "1626/1641 [============================>.] - ETA: 0s - loss: 0.2469 - accuracy: 0.9333\n",
            "Epoch 00005: val_loss did not improve from 0.21268\n",
            "1641/1641 [==============================] - 4s 2ms/step - loss: 0.2469 - accuracy: 0.9332 - val_loss: 0.2180 - val_accuracy: 0.9347\n",
            "Epoch 6/10\n",
            "1628/1641 [============================>.] - ETA: 0s - loss: 0.2620 - accuracy: 0.9331\n",
            "Epoch 00006: val_loss improved from 0.21268 to 0.20919, saving model to /content/gdrive/My Drive/Finance/Creditrisk/CNN_Model.h5\n",
            "1641/1641 [==============================] - 4s 3ms/step - loss: 0.2616 - accuracy: 0.9332 - val_loss: 0.2092 - val_accuracy: 0.9344\n",
            "Epoch 7/10\n",
            "1625/1641 [============================>.] - ETA: 0s - loss: 0.2449 - accuracy: 0.9327\n",
            "Epoch 00007: val_loss did not improve from 0.20919\n",
            "1641/1641 [==============================] - 4s 2ms/step - loss: 0.2448 - accuracy: 0.9327 - val_loss: 0.2171 - val_accuracy: 0.9345\n",
            "Epoch 8/10\n",
            "1618/1641 [============================>.] - ETA: 0s - loss: 0.2438 - accuracy: 0.9341\n",
            "Epoch 00008: val_loss did not improve from 0.20919\n",
            "1641/1641 [==============================] - 4s 2ms/step - loss: 0.2438 - accuracy: 0.9340 - val_loss: 0.2366 - val_accuracy: 0.9328\n",
            "Epoch 9/10\n",
            "1639/1641 [============================>.] - ETA: 0s - loss: 0.2685 - accuracy: 0.9339\n",
            "Epoch 00009: val_loss improved from 0.20919 to 0.20722, saving model to /content/gdrive/My Drive/Finance/Creditrisk/CNN_Model.h5\n",
            "1641/1641 [==============================] - 4s 2ms/step - loss: 0.2685 - accuracy: 0.9339 - val_loss: 0.2072 - val_accuracy: 0.9348\n",
            "Epoch 10/10\n",
            "1628/1641 [============================>.] - ETA: 0s - loss: 0.2352 - accuracy: 0.9342\n",
            "Epoch 00010: val_loss did not improve from 0.20722\n",
            "1641/1641 [==============================] - 4s 3ms/step - loss: 0.2355 - accuracy: 0.9340 - val_loss: 0.2220 - val_accuracy: 0.9344\n",
            "Test loss: 0.22204995155334473\n",
            "Test accuracy: 0.9343777894973755\n"
          ],
          "name": "stdout"
        },
        {
          "output_type": "display_data",
          "data": {
            "image/png": "[encoded data removed]",
            "text/plain": [
              "<Figure size 576x396 with 1 Axes>"
            ]
          },
          "metadata": {
            "tags": []
          }
        },
        {
          "output_type": "display_data",
          "data": {
            "image/png": "[encoded data removed]",
            "text/plain": [
              "<Figure size 576x396 with 1 Axes>"
            ]
          },
          "metadata": {
            "tags": []
          }
        },
        {
          "output_type": "stream",
          "text": [
            "WARNING:tensorflow:From <ipython-input-41-497693d28e8d>:82: Sequential.predict_classes (from tensorflow.python.keras.engine.sequential) is deprecated and will be removed after 2021-01-01.\n",
            "Instructions for updating:\n",
            "Please use instead:* `np.argmax(model.predict(x), axis=-1)`,   if your model does multi-class classification   (e.g. if it uses a `softmax` last-layer activation).* `(model.predict(x) > 0.5).astype(\"int32\")`,   if your model does binary classification   (e.g. if it uses a `sigmoid` last-layer activation).\n",
            "Confusion matrix without normalization\n",
            "[[41891    74]\n",
            " [ 2879   156]]\n",
            "AUC for CNN: 0.5248184776244265\n",
            "WARNING:tensorflow:From <ipython-input-41-497693d28e8d>:92: Sequential.predict_proba (from tensorflow.python.keras.engine.sequential) is deprecated and will be removed after 2021-01-01.\n",
            "Instructions for updating:\n",
            "Please use `model.predict()` instead.\n"
          ],
          "name": "stdout"
        },
        {
          "output_type": "display_data",
          "data": {
            "image/png": "[encoded data removed]",
            "text/plain": [
              "<Figure size 576x396 with 2 Axes>"
            ]
          },
          "metadata": {
            "tags": []
          }
        },
        {
          "output_type": "stream",
          "text": [
            "Classification Report\n",
            "              precision    recall  f1-score   support\n",
            "\n",
            "           0       0.94      1.00      0.97     41965\n",
            "           1       0.68      0.05      0.10      3035\n",
            "\n",
            "    accuracy                           0.93     45000\n",
            "   macro avg       0.81      0.52      0.53     45000\n",
            "weighted avg       0.92      0.93      0.91     45000\n",
            "\n"
          ],
          "name": "stdout"
        }
      ]
    },
    {
      "cell_type": "code",
      "metadata": {
        "id": "fyzOC-5m2vqw",
        "colab_type": "code",
        "colab": {}
      },
      "source": [
        "#split the dat into train and test data set\n",
        "from sklearn.model_selection  import train_test_split\n",
        "X_Train,X_Test,Y_Train,Y_Test=train_test_split(data_updated,target,test_size=0.3,random_state=0)"
      ],
      "execution_count": null,
      "outputs": []
    },
    {
      "cell_type": "markdown",
      "metadata": {
        "id": "G6Kr3X1Q1FSE",
        "colab_type": "text"
      },
      "source": [
        "Stacking Classifier to improve prediction"
      ]
    },
    {
      "cell_type": "code",
      "metadata": {
        "id": "IMhNNUSMhrdp",
        "colab_type": "code",
        "colab": {}
      },
      "source": [
        "knn=KNeighborsClassifier()\n",
        "#set the hyper paramters\n",
        "params_knn={'n_neighbors':np.arange(1,25)}\n",
        "#Use gridserach CV to find the right combination\n",
        "knn_gs=GridSearchCV(knn,params_knn,cv=5)\n",
        "#fit the model\n",
        "knn_gs.fit(X_Train,Y_Train)\n",
        "#find the best estimator\n",
        "knn_best=knn_gs.best_estimator_\n",
        "#use RF classifier\n",
        "rf2=RandomForestClassifier(bootstrap=True,max_depth= 80,max_features= 'auto',min_samples_leaf= 1,min_samples_split= 10,n_estimators= 100,random_state=42)"
      ],
      "execution_count": null,
      "outputs": []
    },
    {
      "cell_type": "code",
      "metadata": {
        "id": "xeTeuvOx3piA",
        "colab_type": "code",
        "colab": {}
      },
      "source": [
        "#define Adabossting classifier\n",
        "Ada=AdaBoostClassifier(RandomForestClassifier(),random_state=42)\n",
        "#def stacking classifier\n",
        "from mlxtend.classifier import StackingClassifier\n",
        "from sklearn.externals import joblib \n",
        "def stacking(X_Train,X_Test,Y_Train,Y_Test):\n",
        "  classifiers=[rf2,knn_best]\n",
        "  sc=StackingClassifier(classifiers,meta_classifier=Ada)\n",
        "  sc.fit(X_Train,Y_Train)\n",
        "  joblib.dump(sc,'/content/gdrive/My Drive/Finance/Creditrisk/stacking.pkl')\n",
        "  print(\"stacking classifier:Train set\")\n",
        "  y_pred=sc.predict(X_Test)\n",
        "\n",
        "  #Confusion Matrix\n",
        "  print(\"Stacking Classifier :Confusion Matrix: \", confusion_matrix(Y_Test, y_pred))\n",
        "  print(\"stakcing classifier:accuracy score:\",accuracy_score(Y_Test, y_pred))\n",
        "  print(\"stacking classifier:classification report:\", classification_report(Y_Test, y_pred))\n"
      ],
      "execution_count": null,
      "outputs": []
    },
    {
      "cell_type": "code",
      "metadata": {
        "id": "vrpGY04e6VI3",
        "colab_type": "code",
        "colab": {
          "base_uri": "https://localhost:8080/",
          "height": 228
        },
        "outputId": "4d716071-fdd3-4d89-ef51-d2c9fa23c90f"
      },
      "source": [
        "#Run the stacking classifier\n",
        "stacking(X_Train,X_Test,Y_Train,Y_Test)"
      ],
      "execution_count": null,
      "outputs": [
        {
          "output_type": "stream",
          "text": [
            "stacking classifier:Train set\n",
            "Stacking Classifier :Confusion Matrix:  [[41537   428]\n",
            " [ 2455   580]]\n",
            "stakcing classifier:accuracy score: 0.9359333333333333\n",
            "stacking classifier:classification report:               precision    recall  f1-score   support\n",
            "\n",
            "           0       0.94      0.99      0.97     41965\n",
            "           1       0.58      0.19      0.29      3035\n",
            "\n",
            "    accuracy                           0.94     45000\n",
            "   macro avg       0.76      0.59      0.63     45000\n",
            "weighted avg       0.92      0.94      0.92     45000\n",
            "\n"
          ],
          "name": "stdout"
        }
      ]
    },
    {
      "cell_type": "code",
      "metadata": {
        "id": "kHPhmpdpBH9W",
        "colab_type": "code",
        "colab": {}
      },
      "source": [
        "def new_model():\n",
        "  model = Sequential()\n",
        "  model.add(Conv1D(filters=32, kernel_size=3, input_shape=(12,1)))\n",
        "  model.add(MaxPooling1D(pool_size=3))\n",
        "  model.add(Flatten())\n",
        "  model.add(Dense(1500, activation='relu'))\n",
        "  model.add(Dense(2, activation='softmax'))\n",
        "  model.compile(loss='categorical_crossentropy',\n",
        "                  optimizer='adam',\n",
        "                  metrics=['accuracy'])\n",
        "  return model"
      ],
      "execution_count": null,
      "outputs": []
    },
    {
      "cell_type": "code",
      "metadata": {
        "id": "I4FLm06hPE0f",
        "colab_type": "code",
        "colab": {}
      },
      "source": [
        "#https://github.com/Amey-Mohite/1D-cnn-and-AdaBoost-together/blob/master/CNN_ADABOOST.ipynb"
      ],
      "execution_count": null,
      "outputs": []
    },
    {
      "cell_type": "code",
      "metadata": {
        "id": "oLjWbCsZMUUU",
        "colab_type": "code",
        "colab": {
          "base_uri": "https://localhost:8080/",
          "height": 175
        },
        "outputId": "db19fee6-3ae0-4494-ede0-b45ffc387681"
      },
      "source": [
        "#cvD = cvDictGen(X_Train,Y_Train,scr='roc_auc',functions=[RF,knn, ADA, GB])\n",
        "#cvD\n"
      ],
      "execution_count": null,
      "outputs": [
        {
          "output_type": "error",
          "ename": "TypeError",
          "evalue": "ignored",
          "traceback": [
            "\u001b[0;31m---------------------------------------------------------------------------\u001b[0m",
            "\u001b[0;31mTypeError\u001b[0m                                 Traceback (most recent call last)",
            "\u001b[0;32m<ipython-input-146-02ea9cbf3f1e>\u001b[0m in \u001b[0;36m<module>\u001b[0;34m()\u001b[0m\n\u001b[0;32m----> 1\u001b[0;31m \u001b[0mcvD\u001b[0m \u001b[0;34m=\u001b[0m \u001b[0mcvDictGen\u001b[0m\u001b[0;34m(\u001b[0m\u001b[0mX_Train\u001b[0m\u001b[0;34m,\u001b[0m\u001b[0mY_Train\u001b[0m\u001b[0;34m,\u001b[0m\u001b[0mscr\u001b[0m\u001b[0;34m=\u001b[0m\u001b[0;34m'roc_auc'\u001b[0m\u001b[0;34m,\u001b[0m\u001b[0mfunctions\u001b[0m\u001b[0;34m=\u001b[0m\u001b[0;34m[\u001b[0m\u001b[0mRF\u001b[0m\u001b[0;34m,\u001b[0m\u001b[0mknn\u001b[0m\u001b[0;34m,\u001b[0m \u001b[0mADA\u001b[0m\u001b[0;34m,\u001b[0m \u001b[0mGB\u001b[0m\u001b[0;34m]\u001b[0m\u001b[0;34m)\u001b[0m\u001b[0;34m\u001b[0m\u001b[0;34m\u001b[0m\u001b[0m\n\u001b[0m\u001b[1;32m      2\u001b[0m \u001b[0mcvD\u001b[0m\u001b[0;34m\u001b[0m\u001b[0;34m\u001b[0m\u001b[0m\n",
            "\u001b[0;31mTypeError\u001b[0m: cvDictGen() got multiple values for argument 'scr'"
          ]
        }
      ]
    },
    {
      "cell_type": "code",
      "metadata": {
        "id": "UplG-SNEFXGQ",
        "colab_type": "code",
        "colab": {}
      },
      "source": [
        ""
      ],
      "execution_count": null,
      "outputs": []
    }
  ]
}